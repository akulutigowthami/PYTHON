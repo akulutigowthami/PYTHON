{
  "nbformat": 4,
  "nbformat_minor": 0,
  "metadata": {
    "colab": {
      "name": "DAY 11(01-02-2020)",
      "provenance": [],
      "authorship_tag": "ABX9TyM3MdVhvRx3AdqbIsfulDHd",
      "include_colab_link": true
    },
    "kernelspec": {
      "name": "python3",
      "display_name": "Python 3"
    }
  },
  "cells": [
    {
      "cell_type": "markdown",
      "metadata": {
        "id": "view-in-github",
        "colab_type": "text"
      },
      "source": [
        "<a href=\"https://colab.research.google.com/github/akulutigowthami/PYTHON/blob/master/DAY_11(01_02_2020).ipynb\" target=\"_parent\"><img src=\"https://colab.research.google.com/assets/colab-badge.svg\" alt=\"Open In Colab\"/></a>"
      ]
    },
    {
      "cell_type": "code",
      "metadata": {
        "id": "gug5Uaub6BDC",
        "colab_type": "code",
        "colab": {}
      },
      "source": [
        ""
      ],
      "execution_count": 0,
      "outputs": []
    },
    {
      "cell_type": "markdown",
      "metadata": {
        "id": "1ox9ffx3750h",
        "colab_type": "text"
      },
      "source": [
        "#TUPLE\n",
        "- paranthasis() -->tuple and square brackets[]-->list\n",
        "- difference b/w list and tuple\n",
        "      - list are mutable -can be changed \n",
        "      - list used tp access modify,add,delete\n",
        "      - tuples are immutable --cannot be changed\n",
        "      - used to access data\n"
      ]
    },
    {
      "cell_type": "code",
      "metadata": {
        "id": "tieEt0cw9DhM",
        "colab_type": "code",
        "colab": {
          "base_uri": "https://localhost:8080/",
          "height": 51
        },
        "outputId": "bb8babf2-f05f-42ca-8c4c-a95b80ae66b3"
      },
      "source": [
        "t1 = (1,2,3,4,5,6)\n",
        "t2 = (1,4,5,6)\n",
        "print(t1,type(t1))\n",
        "print(t2,type(t2))"
      ],
      "execution_count": 4,
      "outputs": [
        {
          "output_type": "stream",
          "text": [
            "(1, 2, 3, 4, 5, 6) <class 'tuple'>\n",
            "(1, 4, 5, 6) <class 'tuple'>\n"
          ],
          "name": "stdout"
        }
      ]
    },
    {
      "cell_type": "markdown",
      "metadata": {
        "id": "KPvKvPs_B2lD",
        "colab_type": "text"
      },
      "source": [
        "# Dictionaries:\n",
        "1.it works on concept of set unique data\n",
        "\n",
        "2.Keys,values is the unique identifier for a value\n",
        "\n",
        "3.Each key is seperated from its values with colon(:)\n",
        "\n",
        "4.Each key and value is seperated by comma(,)\n",
        "\n",
        "5.Dictinaries enclod=sed with curly braces{}\n"
      ]
    },
    {
      "cell_type": "code",
      "metadata": {
        "id": "oYVdMWk1A66W",
        "colab_type": "code",
        "colab": {
          "base_uri": "https://localhost:8080/",
          "height": 34
        },
        "outputId": "9a0e2ef8-5b57-4811-9026-9a155051bef5"
      },
      "source": [
        "d1 = {\"name\":\"jntua\",\"emailid\":\"jntua@gmail.com\",\"address\":\"anantapur\"}\n",
        "d1"
      ],
      "execution_count": 5,
      "outputs": [
        {
          "output_type": "execute_result",
          "data": {
            "text/plain": [
              "{'address': 'anantapur', 'emailid': 'jntua@gmail.com', 'name': 'jntua'}"
            ]
          },
          "metadata": {
            "tags": []
          },
          "execution_count": 5
        }
      ]
    },
    {
      "cell_type": "code",
      "metadata": {
        "id": "bmJKNe1mEZg2",
        "colab_type": "code",
        "colab": {
          "base_uri": "https://localhost:8080/",
          "height": 34
        },
        "outputId": "e76ec205-764a-4ea6-ca8f-ce17a1aa1f80"
      },
      "source": [
        "d1.keys()"
      ],
      "execution_count": 6,
      "outputs": [
        {
          "output_type": "execute_result",
          "data": {
            "text/plain": [
              "dict_keys(['name', 'emailid', 'address'])"
            ]
          },
          "metadata": {
            "tags": []
          },
          "execution_count": 6
        }
      ]
    },
    {
      "cell_type": "code",
      "metadata": {
        "id": "MtQZt0PuFlMD",
        "colab_type": "code",
        "colab": {
          "base_uri": "https://localhost:8080/",
          "height": 34
        },
        "outputId": "b8e53cab-8479-4356-c58d-4e3f807045dd"
      },
      "source": [
        "d1.values()"
      ],
      "execution_count": 8,
      "outputs": [
        {
          "output_type": "execute_result",
          "data": {
            "text/plain": [
              "dict_values(['jntua', 'jntua@gmail.com', 'anantapur'])"
            ]
          },
          "metadata": {
            "tags": []
          },
          "execution_count": 8
        }
      ]
    },
    {
      "cell_type": "code",
      "metadata": {
        "id": "zgh2z1tPFnrT",
        "colab_type": "code",
        "colab": {
          "base_uri": "https://localhost:8080/",
          "height": 34
        },
        "outputId": "6e16498f-f3b8-4c28-b0dc-8c56edb2a27a"
      },
      "source": [
        "d1[\"name\"]"
      ],
      "execution_count": 9,
      "outputs": [
        {
          "output_type": "execute_result",
          "data": {
            "text/plain": [
              "'jntua'"
            ]
          },
          "metadata": {
            "tags": []
          },
          "execution_count": 9
        }
      ]
    },
    {
      "cell_type": "code",
      "metadata": {
        "id": "KJGfTfGXGB5f",
        "colab_type": "code",
        "colab": {
          "base_uri": "https://localhost:8080/",
          "height": 34
        },
        "outputId": "6d0133bc-f38c-4540-fb19-207ac219602c"
      },
      "source": [
        "d1 = {\"name\":\"jntua\",\"emailid\":\"jntua@gmail.com\",\"address\":\"anantapur\"}\n",
        "d1[\"emailid\"] = \"python@gmail.com\"\n",
        "print(d1)"
      ],
      "execution_count": 10,
      "outputs": [
        {
          "output_type": "stream",
          "text": [
            "{'name': 'jntua', 'emailid': 'python@gmail.com', 'address': 'anantapur'}\n"
          ],
          "name": "stdout"
        }
      ]
    },
    {
      "cell_type": "code",
      "metadata": {
        "id": "dBxQ2WESGyFD",
        "colab_type": "code",
        "colab": {
          "base_uri": "https://localhost:8080/",
          "height": 34
        },
        "outputId": "9f26a4f6-52db-46fc-c839-4c8d6c223efa"
      },
      "source": [
        "d1['courses'] = \"python\"\n",
        "print(d1)"
      ],
      "execution_count": 11,
      "outputs": [
        {
          "output_type": "stream",
          "text": [
            "{'name': 'jntua', 'emailid': 'python@gmail.com', 'address': 'anantapur', 'courses': 'python'}\n"
          ],
          "name": "stdout"
        }
      ]
    },
    {
      "cell_type": "code",
      "metadata": {
        "id": "9GlDz8atHZU_",
        "colab_type": "code",
        "colab": {
          "base_uri": "https://localhost:8080/",
          "height": 34
        },
        "outputId": "c4d1adf7-9eb4-494e-a6ac-2bf586ea8fe2"
      },
      "source": [
        "del d1['emailid']\n",
        "print(d1)"
      ],
      "execution_count": 12,
      "outputs": [
        {
          "output_type": "stream",
          "text": [
            "{'name': 'jntua', 'address': 'anantapur', 'courses': 'python'}\n"
          ],
          "name": "stdout"
        }
      ]
    },
    {
      "cell_type": "markdown",
      "metadata": {
        "id": "CP28w6x_ILZL",
        "colab_type": "text"
      },
      "source": [
        "# STRINGS:\n",
        "\n"
      ]
    },
    {
      "cell_type": "code",
      "metadata": {
        "id": "1njHoLVqHzoA",
        "colab_type": "code",
        "colab": {
          "base_uri": "https://localhost:8080/",
          "height": 34
        },
        "outputId": "8abc0c2e-0651-428a-d547-d90c4cd7c55b"
      },
      "source": [
        "s1 = \"python\"\n",
        "print(s1,type(s1))"
      ],
      "execution_count": 13,
      "outputs": [
        {
          "output_type": "stream",
          "text": [
            "python <class 'str'>\n"
          ],
          "name": "stdout"
        }
      ]
    },
    {
      "cell_type": "code",
      "metadata": {
        "id": "oHkiIYutIiqP",
        "colab_type": "code",
        "colab": {
          "base_uri": "https://localhost:8080/",
          "height": 136
        },
        "outputId": "8a115b83-7dc7-4ac2-e757-0d35f0b576a0"
      },
      "source": [
        "s1 = \"python\"\n",
        "print(s1[-1])\n",
        "print(s1[2:])\n",
        "print(s1[1:5])\n",
        "print(s1[::-1])\n",
        "print(s1[-1::-1])\n",
        "print(s1[(len(s1)//2)])\n",
        "print(s1[-1:-3:-1])"
      ],
      "execution_count": 63,
      "outputs": [
        {
          "output_type": "stream",
          "text": [
            "n\n",
            "thon\n",
            "ytho\n",
            "nohtyp\n",
            "nohtyp\n",
            "h\n",
            "no\n"
          ],
          "name": "stdout"
        }
      ]
    },
    {
      "cell_type": "code",
      "metadata": {
        "id": "5QVdwGA5JCKj",
        "colab_type": "code",
        "colab": {
          "base_uri": "https://localhost:8080/",
          "height": 34
        },
        "outputId": "2fa6f26a-c3f4-4a07-83c7-cadd2dc553b9"
      },
      "source": [
        "# reversing of string using function\n",
        "def reversestring(str):\n",
        "  return str[-1::-1]\n",
        "reversestring(\"python\")"
      ],
      "execution_count": 48,
      "outputs": [
        {
          "output_type": "execute_result",
          "data": {
            "text/plain": [
              "'nohtyp'"
            ]
          },
          "metadata": {
            "tags": []
          },
          "execution_count": 48
        }
      ]
    },
    {
      "cell_type": "code",
      "metadata": {
        "id": "aPgnE_d9QW7p",
        "colab_type": "code",
        "colab": {
          "base_uri": "https://localhost:8080/",
          "height": 34
        },
        "outputId": "b52c876b-755f-4fa2-c4a2-59822d34a6df"
      },
      "source": [
        "#  string is palindrome or not\n",
        "def palindrom(str):\n",
        " if s==s[-1::-1]:\n",
        "   print(\"palindrom\")\n",
        " else:\n",
        "   print(\"not palindrom\")\n",
        "palindrom(123)  "
      ],
      "execution_count": 58,
      "outputs": [
        {
          "output_type": "stream",
          "text": [
            "palindrom\n"
          ],
          "name": "stdout"
        }
      ]
    },
    {
      "cell_type": "code",
      "metadata": {
        "id": "QnoAQL1YT_BK",
        "colab_type": "code",
        "colab": {}
      },
      "source": [
        ""
      ],
      "execution_count": 0,
      "outputs": []
    }
  ]
}