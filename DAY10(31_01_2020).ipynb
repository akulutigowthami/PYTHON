{
  "nbformat": 4,
  "nbformat_minor": 0,
  "metadata": {
    "colab": {
      "name": "DAY10(31-01-2020)",
      "provenance": [],
      "authorship_tag": "ABX9TyNTFtBHv+hIudlZnofTDiS2",
      "include_colab_link": true
    },
    "kernelspec": {
      "name": "python3",
      "display_name": "Python 3"
    }
  },
  "cells": [
    {
      "cell_type": "markdown",
      "metadata": {
        "id": "view-in-github",
        "colab_type": "text"
      },
      "source": [
        "<a href=\"https://colab.research.google.com/github/akulutigowthami/PYTHON/blob/master/DAY10(31_01_2020).ipynb\" target=\"_parent\"><img src=\"https://colab.research.google.com/assets/colab-badge.svg\" alt=\"Open In Colab\"/></a>"
      ]
    },
    {
      "cell_type": "markdown",
      "metadata": {
        "id": "1Z3YaqzWyXGm",
        "colab_type": "text"
      },
      "source": [
        ""
      ]
    },
    {
      "cell_type": "markdown",
      "metadata": {
        "id": "e8qZarxZyYcX",
        "colab_type": "text"
      },
      "source": [
        "# LOOPS\n",
        "- while loop\n",
        "- for loop"
      ]
    },
    {
      "cell_type": "code",
      "metadata": {
        "id": "ER63ro67vXLN",
        "colab_type": "code",
        "colab": {
          "base_uri": "https://localhost:8080/",
          "height": 51
        },
        "outputId": "7e7548ca-e336-431a-fff4-6b7528c5065a"
      },
      "source": [
        "# Print  number from  1 to n\n",
        "# input 10\n",
        "# output 1 2 3 ... 10 \n",
        "n =int(input(\"enter a number :\"))\n",
        "i =1\n",
        "while i<=n:\n",
        "  print(i,end = \" \")\n",
        "  i = i+1\n"
      ],
      "execution_count": 19,
      "outputs": [
        {
          "output_type": "stream",
          "text": [
            "enter a number :10\n",
            "1 2 3 4 5 6 7 8 9 10 "
          ],
          "name": "stdout"
        }
      ]
    },
    {
      "cell_type": "code",
      "metadata": {
        "id": "6eAPP9Rjz_X6",
        "colab_type": "code",
        "colab": {
          "base_uri": "https://localhost:8080/",
          "height": 136
        },
        "outputId": "132ae636-eed5-459a-8996-6947e5a7d604"
      },
      "source": [
        "# sum of even numbers \n",
        "n = int(input(\"enter a number :\"))\n",
        "i =0\n",
        "sum =0\n",
        "while i<=n:\n",
        "   sum =sum+i \n",
        "   i =i+2\n",
        "   print(sum)"
      ],
      "execution_count": 32,
      "outputs": [
        {
          "output_type": "stream",
          "text": [
            "enter a number :10\n",
            "0\n",
            "2\n",
            "6\n",
            "12\n",
            "20\n",
            "30\n"
          ],
          "name": "stdout"
        }
      ]
    },
    {
      "cell_type": "code",
      "metadata": {
        "id": "Et-7R1LU3dC5",
        "colab_type": "code",
        "colab": {
          "base_uri": "https://localhost:8080/",
          "height": 51
        },
        "outputId": "e8f6880d-5a42-4dfc-dd16-1871f8cd8cf0"
      },
      "source": [
        "#  print palindrome number \n",
        "# input 123\n",
        "# output 321\n",
        "n =int(input(\"enter a number\"))\n",
        "rem =0\n",
        "num =0\n",
        "while n>0:\n",
        "  rem=n%10\n",
        "  num=num*10+rem\n",
        "  n=n//10\n",
        "print(num)"
      ],
      "execution_count": 34,
      "outputs": [
        {
          "output_type": "stream",
          "text": [
            "enter a number123\n",
            "321\n"
          ],
          "name": "stdout"
        }
      ]
    },
    {
      "cell_type": "markdown",
      "metadata": {
        "id": "R4w7mzpm-Awk",
        "colab_type": "text"
      },
      "source": [
        "# FUNCTIONAL PROGRAMMING\n",
        "- simple\n",
        "- easy to understand\n",
        "- better reusebility\n",
        "- lenthy program will be divided into  sub programs\n"
      ]
    },
    {
      "cell_type": "code",
      "metadata": {
        "id": "gezcdKuX8zMs",
        "colab_type": "code",
        "colab": {}
      },
      "source": [
        "def nameofthefunction(<parameter>):\n",
        "    statements\n",
        "    return"
      ],
      "execution_count": 0,
      "outputs": []
    },
    {
      "cell_type": "code",
      "metadata": {
        "id": "mR8lKEfB_VaQ",
        "colab_type": "code",
        "colab": {
          "base_uri": "https://localhost:8080/",
          "height": 34
        },
        "outputId": "3e31ce80-0deb-40e9-deb6-36e0e92d607c"
      },
      "source": [
        "# print sum of even numbers\n",
        "# input 1234\n",
        "# output (2+4)=6\n",
        "def sumofevendigits(n):\n",
        "  s=0\n",
        "  while n!= 0:\n",
        "   r = n%10\n",
        "   if r%2==0:\n",
        "     s =s+r\n",
        "   n=n //10\n",
        "  return s\n",
        "sumofevendigits(1234)\n",
        "\n"
      ],
      "execution_count": 44,
      "outputs": [
        {
          "output_type": "execute_result",
          "data": {
            "text/plain": [
              "6"
            ]
          },
          "metadata": {
            "tags": []
          },
          "execution_count": 44
        }
      ]
    },
    {
      "cell_type": "code",
      "metadata": {
        "id": "UEqKNWHFDJlr",
        "colab_type": "code",
        "colab": {
          "base_uri": "https://localhost:8080/",
          "height": 34
        },
        "outputId": "1c4f2435-502c-4a78-92db-3a42e591efb2"
      },
      "source": [
        "# largest of 3 numbers\n",
        "# input 4 5 6 \n",
        "# output 6\n",
        "def large(n):\n",
        " a =0\n",
        " b =0\n",
        " while n!=0:\n",
        "  a = b\n",
        "  b =n%10\n",
        "  if a>b:\n",
        "    b=a\n",
        "  n =n//10\n",
        " return b \n",
        "large(456)"
      ],
      "execution_count": 46,
      "outputs": [
        {
          "output_type": "execute_result",
          "data": {
            "text/plain": [
              "6"
            ]
          },
          "metadata": {
            "tags": []
          },
          "execution_count": 46
        }
      ]
    },
    {
      "cell_type": "code",
      "metadata": {
        "id": "_QM4kACfH5je",
        "colab_type": "code",
        "colab": {}
      },
      "source": [
        ""
      ],
      "execution_count": 0,
      "outputs": []
    },
    {
      "cell_type": "markdown",
      "metadata": {
        "id": "76G6PJ-lJYmJ",
        "colab_type": "text"
      },
      "source": [
        "# FOR LOOP \n",
        "\n",
        "  "
      ]
    },
    {
      "cell_type": "code",
      "metadata": {
        "id": "tJQnaYU-KKCW",
        "colab_type": "code",
        "colab": {}
      },
      "source": [
        "# syntax\n",
        "for in range(start,stop,step)\n",
        "  statements"
      ],
      "execution_count": 0,
      "outputs": []
    },
    {
      "cell_type": "code",
      "metadata": {
        "id": "U0_Ca6BjKc9j",
        "colab_type": "code",
        "colab": {
          "base_uri": "https://localhost:8080/",
          "height": 34
        },
        "outputId": "4b0449fd-23c6-4930-c18f-485d1d4414c3"
      },
      "source": [
        "# using function print the numbers between limits\n",
        "#input :11 25\n",
        "#output :11 12 13 .......25\n",
        "def printseries(fn,ln):\n",
        "   for i in range(fn,ln+1):\n",
        "     print(i,end=\" \")\n",
        "   return\n",
        "printseries(11,25)"
      ],
      "execution_count": 48,
      "outputs": [
        {
          "output_type": "stream",
          "text": [
            "11 12 13 14 15 16 17 18 19 20 21 22 23 24 25 "
          ],
          "name": "stdout"
        }
      ]
    },
    {
      "cell_type": "code",
      "metadata": {
        "id": "9eC1MK_xLfVY",
        "colab_type": "code",
        "colab": {
          "base_uri": "https://localhost:8080/",
          "height": 34
        },
        "outputId": "1f5dcf96-2d7b-42f7-9679-ffb1334f83e5"
      },
      "source": [
        "# input :500,520 \n",
        "# output 500 ,504,508.....520\n",
        " def printnumbers(fn,ln):\n",
        "  for i in range(fn,ln+1,4):\n",
        "    print(i,end =\" \")\n",
        "  return \n",
        "printnumbers(500,520)"
      ],
      "execution_count": 53,
      "outputs": [
        {
          "output_type": "stream",
          "text": [
            "500 504 508 512 516 520 "
          ],
          "name": "stdout"
        }
      ]
    },
    {
      "cell_type": "markdown",
      "metadata": {
        "id": "D4k6FUIgNumX",
        "colab_type": "text"
      },
      "source": [
        "# collection types \n",
        "- List\n",
        "- Tuple\n",
        "- Dictionary"
      ]
    },
    {
      "cell_type": "markdown",
      "metadata": {
        "id": "iZa98GrQN_PU",
        "colab_type": "text"
      },
      "source": [
        "# List \n",
        "- one of the data structure in python\n",
        "- Data structure meands to store,sort,search options\n",
        "- Its one common data structure in python ,the items of list seperated by comma,and enclosed by square brackets\n",
        "- In list we can change values  \n",
        "- ex:\n",
        "- list1 =[1,2,3,4,5]\n",
        "-list =[\"JNTUA\",\"DASD\",\"asds\"]"
      ]
    },
    {
      "cell_type": "code",
      "metadata": {
        "id": "7iI_hRszNMYe",
        "colab_type": "code",
        "colab": {
          "base_uri": "https://localhost:8080/",
          "height": 136
        },
        "outputId": "9beb727a-1dbe-4582-8e5d-684ba7e5c56a"
      },
      "source": [
        "li =[1,8,2,5,4]\n",
        "print(li)\n",
        "print(li[2])\n",
        "print(li[-3])\n",
        "print(li[2:])\n",
        "print(li[2:4])\n",
        "print(li[-3:-1])\n",
        "print(li[::2])"
      ],
      "execution_count": 61,
      "outputs": [
        {
          "output_type": "stream",
          "text": [
            "[1, 8, 2, 5, 4]\n",
            "2\n",
            "2\n",
            "[2, 5, 4]\n",
            "[2, 5]\n",
            "[2, 5]\n",
            "[1, 2, 4]\n"
          ],
          "name": "stdout"
        }
      ]
    },
    {
      "cell_type": "code",
      "metadata": {
        "id": "xwV9s5YyQCLq",
        "colab_type": "code",
        "colab": {
          "base_uri": "https://localhost:8080/",
          "height": 68
        },
        "outputId": "af6f5188-9c39-4f9b-a4ec-48e120602ff2"
      },
      "source": [
        "# update list\n",
        "li = [\"JNTUA\",8,'ANTPR',5,4]\n",
        "print(li)\n",
        "li[1]=\"154\"\n",
        "print(li)\n",
        "# delete list item\n",
        "del li[3]\n",
        "print(li)"
      ],
      "execution_count": 68,
      "outputs": [
        {
          "output_type": "stream",
          "text": [
            "['JNTUA', 8, 'ANTPR', 5, 4]\n",
            "['JNTUA', '154', 'ANTPR', 5, 4]\n",
            "['JNTUA', '154', 'ANTPR', 4]\n"
          ],
          "name": "stdout"
        }
      ]
    },
    {
      "cell_type": "code",
      "metadata": {
        "id": "BQH2tF6Acw1n",
        "colab_type": "code",
        "colab": {
          "base_uri": "https://localhost:8080/",
          "height": 85
        },
        "outputId": "90fa64db-c54b-4986-8b82-186357297845"
      },
      "source": [
        "# basic list operations\n",
        "li = [1,2,3,4,5]\n",
        "print(len(li))\n",
        "print(li*2)\n",
        "print(4 in li)\n",
        "print(6 in li)"
      ],
      "execution_count": 72,
      "outputs": [
        {
          "output_type": "stream",
          "text": [
            "5\n",
            "[1, 2, 3, 4, 5, 1, 2, 3, 4, 5]\n",
            "True\n",
            "False\n"
          ],
          "name": "stdout"
        }
      ]
    },
    {
      "cell_type": "markdown",
      "metadata": {
        "id": "3r1xv8A1fBDc",
        "colab_type": "text"
      },
      "source": [
        "#list functions\n",
        "- max\n",
        "- min\n",
        "- sum\n",
        "- append\n",
        "- insert\n",
        "- count\n",
        "- index\n",
        "- sort\n",
        "- pop\n"
      ]
    },
    {
      "cell_type": "code",
      "metadata": {
        "id": "7jh4WWREfnDS",
        "colab_type": "code",
        "colab": {
          "base_uri": "https://localhost:8080/",
          "height": 34
        },
        "outputId": "3476ea96-83db-410a-fb97-d82f72bb44a3"
      },
      "source": [
        "li = [8,7,3,6,5] \n",
        "#li.append(56)\n",
        "#li.insert(2,56)\n",
        "#li.count(5)\n",
        "#index(4)\n",
        "#li.sort()\n",
        "li.pop(2)\n",
        "print(li)"
      ],
      "execution_count": 82,
      "outputs": [
        {
          "output_type": "stream",
          "text": [
            "[8, 7, 6, 5]\n"
          ],
          "name": "stdout"
        }
      ]
    },
    {
      "cell_type": "code",
      "metadata": {
        "id": "MhwqYHNOkAKf",
        "colab_type": "code",
        "colab": {
          "base_uri": "https://localhost:8080/",
          "height": 51
        },
        "outputId": "6cafb4f7-f56e-485c-881e-6ccaaddf7524"
      },
      "source": [
        "# by using function return large number from li\n",
        "def largenumber(li):\n",
        "  li.sort()\n",
        "  return li[-1]\n",
        "def genericlarge(li,n):\n",
        "  li.sort()\n",
        "  return li[-n]\n",
        "li = [13,2,43,74,78,12,35]\n",
        "print(largenumber(li))\n",
        "print(genericlarge(li,3))"
      ],
      "execution_count": 94,
      "outputs": [
        {
          "output_type": "stream",
          "text": [
            "78\n",
            "43\n"
          ],
          "name": "stdout"
        }
      ]
    },
    {
      "cell_type": "code",
      "metadata": {
        "id": "yh7rE-BqoNYS",
        "colab_type": "code",
        "colab": {}
      },
      "source": [
        ""
      ],
      "execution_count": 0,
      "outputs": []
    },
    {
      "cell_type": "code",
      "metadata": {
        "id": "7tb1XGBOicQ6",
        "colab_type": "code",
        "colab": {
          "base_uri": "https://localhost:8080/",
          "height": 51
        },
        "outputId": "2a5cf8d2-ba0f-4b85-f641-5d532f3432a9"
      },
      "source": [
        "#by using function return small number from li\n",
        "def smallnumber(li):\n",
        "  li.sort()\n",
        "  return li[0]\n",
        "def genericsmall(li,n):\n",
        "  li.sort()\n",
        "  return li[n]\n",
        "li = [13,2,43,74,78,12,35]\n",
        "print(smallnumber(li))\n",
        "print(genericsmall(li,3))"
      ],
      "execution_count": 96,
      "outputs": [
        {
          "output_type": "stream",
          "text": [
            "2\n",
            "35\n"
          ],
          "name": "stdout"
        }
      ]
    },
    {
      "cell_type": "code",
      "metadata": {
        "id": "Y1OuycAppI8H",
        "colab_type": "code",
        "colab": {}
      },
      "source": [
        ""
      ],
      "execution_count": 0,
      "outputs": []
    }
  ]
}