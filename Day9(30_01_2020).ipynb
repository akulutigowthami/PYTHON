{
  "nbformat": 4,
  "nbformat_minor": 0,
  "metadata": {
    "colab": {
      "name": "Day9(30-01-2020)",
      "provenance": [],
      "authorship_tag": "ABX9TyO1OH9M7/K+47L5iZZdkBmd",
      "include_colab_link": true
    },
    "kernelspec": {
      "name": "python3",
      "display_name": "Python 3"
    }
  },
  "cells": [
    {
      "cell_type": "markdown",
      "metadata": {
        "id": "view-in-github",
        "colab_type": "text"
      },
      "source": [
        "<a href=\"https://colab.research.google.com/github/akulutigowthami/PYTHON/blob/master/Day9(30_01_2020).ipynb\" target=\"_parent\"><img src=\"https://colab.research.google.com/assets/colab-badge.svg\" alt=\"Open In Colab\"/></a>"
      ]
    },
    {
      "cell_type": "code",
      "metadata": {
        "id": "gCXQ4kVJ9CpQ",
        "colab_type": "code",
        "colab": {}
      },
      "source": [
        ""
      ],
      "execution_count": 0,
      "outputs": []
    },
    {
      "cell_type": "markdown",
      "metadata": {
        "id": "K2te_IVF-j7q",
        "colab_type": "text"
      },
      "source": [
        "# Markdown\n",
        "## Markdown\n",
        "### Markdown\n",
        "#### Markdown\n"
      ]
    },
    {
      "cell_type": "markdown",
      "metadata": {
        "id": "nFHXgI7y_bnr",
        "colab_type": "text"
      },
      "source": [
        "**points**\n",
        "\n",
        "*points*\n",
        "\n",
        "***Points***"
      ]
    },
    {
      "cell_type": "markdown",
      "metadata": {
        "id": "6NZK-llPByIf",
        "colab_type": "text"
      },
      "source": [
        "***Ading liks to markdown***\n",
        "\n",
        "[site](https://www.jntua.ac.in/)"
      ]
    },
    {
      "cell_type": "markdown",
      "metadata": {
        "id": "5fnzZoDwCoTc",
        "colab_type": "text"
      },
      "source": [
        "#### Inserting image \n",
        "\n",
        "![text](https://www.jntua.ac.in/wp-content/uploads/2018/04/slider02.jpg)"
      ]
    },
    {
      "cell_type": "markdown",
      "metadata": {
        "id": "cRgQZkH5Dfid",
        "colab_type": "text"
      },
      "source": [
        ""
      ]
    },
    {
      "cell_type": "code",
      "metadata": {
        "id": "8oXI_JTpDpj2",
        "colab_type": "code",
        "colab": {
          "base_uri": "https://localhost:8080/",
          "height": 34
        },
        "outputId": "cf943983-ae37-45e6-8bd3-a781bd5c44a8"
      },
      "source": [
        "print(\"hello World\")"
      ],
      "execution_count": 2,
      "outputs": [
        {
          "output_type": "stream",
          "text": [
            "hello World\n"
          ],
          "name": "stdout"
        }
      ]
    },
    {
      "cell_type": "code",
      "metadata": {
        "id": "IC0XuBtkDztn",
        "colab_type": "code",
        "colab": {
          "base_uri": "https://localhost:8080/",
          "height": 51
        },
        "outputId": "c5f1ea35-2789-4a0b-ef0e-18e0d2206fd2"
      },
      "source": [
        "print(\"hello , jntua\")\n",
        "print(\"hello ,jntua\",\"|||\",\"chemical\",\"|||\",\"cse\",\"|||\",\"mca\")\n"
      ],
      "execution_count": 3,
      "outputs": [
        {
          "output_type": "stream",
          "text": [
            "hello , jntua\n",
            "hello ,jntua ||| chemical ||| cse ||| mca\n"
          ],
          "name": "stdout"
        }
      ]
    },
    {
      "cell_type": "code",
      "metadata": {
        "id": "cP-EnEkGJuDj",
        "colab_type": "code",
        "colab": {}
      },
      "source": [
        ""
      ],
      "execution_count": 0,
      "outputs": []
    },
    {
      "cell_type": "markdown",
      "metadata": {
        "id": "HooMMSm2JwC5",
        "colab_type": "text"
      },
      "source": [
        "## Assignment"
      ]
    },
    {
      "cell_type": "code",
      "metadata": {
        "id": "o5-mmMPZJ5dV",
        "colab_type": "code",
        "colab": {
          "base_uri": "https://localhost:8080/",
          "height": 68
        },
        "outputId": "42f26dd6-d651-440f-ce51-3f627fe4a974"
      },
      "source": [
        "n1 = 100 # single variable assignment\n",
        "print(n1)\n",
        "a = b= c = 10 # multi variable assignment of same value \n",
        "print(a,b,c)\n",
        "a1,b1,c1 = 100,200, 300 # multiple variable assignment with differnt values\n",
        "print(a1,b1,c1)"
      ],
      "execution_count": 9,
      "outputs": [
        {
          "output_type": "stream",
          "text": [
            "100\n",
            "10 10 10\n",
            "100 200 300\n"
          ],
          "name": "stdout"
        }
      ]
    },
    {
      "cell_type": "markdown",
      "metadata": {
        "id": "OnecZiv6LhNp",
        "colab_type": "text"
      },
      "source": [
        "## Data types and convections \n",
        "\n",
        "*int\n",
        "\n",
        "*float\n",
        "\n",
        "*string\n"
      ]
    },
    {
      "cell_type": "code",
      "metadata": {
        "id": "0zETpzM1L8bG",
        "colab_type": "code",
        "colab": {
          "base_uri": "https://localhost:8080/",
          "height": 34
        },
        "outputId": "268eaffc-2c90-44d9-f398-432c17e2a4d0"
      },
      "source": [
        "a=100\n",
        "s1=10.2\n",
        "s2=\"python\"\n",
        "print(type(a),type(s1),type(s2))"
      ],
      "execution_count": 10,
      "outputs": [
        {
          "output_type": "stream",
          "text": [
            "<class 'int'> <class 'float'> <class 'str'>\n"
          ],
          "name": "stdout"
        }
      ]
    },
    {
      "cell_type": "code",
      "metadata": {
        "id": "eqAfPLuQMZDS",
        "colab_type": "code",
        "colab": {
          "base_uri": "https://localhost:8080/",
          "height": 68
        },
        "outputId": "7e97bb03-b68c-4cf1-d33e-85bdcdf8a9b0"
      },
      "source": [
        "i = 100\n",
        "print (type (i))\n",
        "s1 = str(i)\n",
        "print(type(s1))\n",
        "f1 = float(i)\n",
        "print(type(f1))"
      ],
      "execution_count": 11,
      "outputs": [
        {
          "output_type": "stream",
          "text": [
            "<class 'int'>\n",
            "<class 'str'>\n",
            "<class 'float'>\n"
          ],
          "name": "stdout"
        }
      ]
    },
    {
      "cell_type": "code",
      "metadata": {
        "id": "CnsrYSYBNYWi",
        "colab_type": "code",
        "colab": {
          "base_uri": "https://localhost:8080/",
          "height": 34
        },
        "outputId": "13f49daf-f3c3-4c64-e023-5e91870f6e84"
      },
      "source": [
        "# length\n",
        "a = 123456\n",
        "print(len(str(a)))"
      ],
      "execution_count": 13,
      "outputs": [
        {
          "output_type": "stream",
          "text": [
            "6\n"
          ],
          "name": "stdout"
        }
      ]
    },
    {
      "cell_type": "markdown",
      "metadata": {
        "id": "lzmMOmXvOaDS",
        "colab_type": "text"
      },
      "source": [
        "##Reading input from user---input function"
      ]
    },
    {
      "cell_type": "code",
      "metadata": {
        "id": "RktzOKFJOpMa",
        "colab_type": "code",
        "colab": {
          "base_uri": "https://localhost:8080/",
          "height": 68
        },
        "outputId": "baa8a2d3-d435-4377-ed15-1672613875e5"
      },
      "source": [
        "a = input(\"enter ur name\")\n",
        "print(a)\n",
        "print(type(a))"
      ],
      "execution_count": 14,
      "outputs": [
        {
          "output_type": "stream",
          "text": [
            "enter ur namesweety\n",
            "sweety\n",
            "<class 'str'>\n"
          ],
          "name": "stdout"
        }
      ]
    },
    {
      "cell_type": "code",
      "metadata": {
        "id": "v6wFLsHKPUt4",
        "colab_type": "code",
        "colab": {
          "base_uri": "https://localhost:8080/",
          "height": 68
        },
        "outputId": "bb9aab95-64bc-44c3-b282-857cb69ad1f0"
      },
      "source": [
        "B =int(input(\"enter ur AGE : \"))\n",
        "print(B)\n",
        "print(type(B))"
      ],
      "execution_count": 15,
      "outputs": [
        {
          "output_type": "stream",
          "text": [
            "enter ur AGE : 21\n",
            "21\n",
            "<class 'int'>\n"
          ],
          "name": "stdout"
        }
      ]
    },
    {
      "cell_type": "markdown",
      "metadata": {
        "id": "99k6PqkGQBwG",
        "colab_type": "text"
      },
      "source": [
        "# Operators\n",
        "- Operators is a symbols is used to perform a specific kind of operations"
      ]
    },
    {
      "cell_type": "markdown",
      "metadata": {
        "id": "HAzvUY9uQkgC",
        "colab_type": "text"
      },
      "source": [
        "#Arthmetic operators\n",
        "- -\n",
        "- +\n",
        "- *\n",
        "- %\n",
        "- //\n",
        "- /"
      ]
    },
    {
      "cell_type": "code",
      "metadata": {
        "id": "lMp19fJOP2pb",
        "colab_type": "code",
        "colab": {
          "base_uri": "https://localhost:8080/",
          "height": 136
        },
        "outputId": "d7bf4d55-4f16-4e7f-9a10-5b8db10255c1"
      },
      "source": [
        " a = 1234\n",
        " print(a+10)\n",
        " print(a-10)\n",
        " print(a*10)\n",
        " print(a/10)\n",
        " print(a%10)\n",
        " print(a//10)\n",
        "print(a**10)\n"
      ],
      "execution_count": 17,
      "outputs": [
        {
          "output_type": "stream",
          "text": [
            "1244\n",
            "1224\n",
            "12340\n",
            "123.4\n",
            "4\n",
            "123\n",
            "8187505353567209228244052427776\n"
          ],
          "name": "stdout"
        }
      ]
    },
    {
      "cell_type": "markdown",
      "metadata": {
        "id": "ECLnD_yyS4YW",
        "colab_type": "text"
      },
      "source": [
        "# Relational operator\n",
        "- =\n",
        "- ==\n",
        "- !=\n",
        "- <\n",
        "- >\n",
        "- <=\n",
        "-  >="
      ]
    },
    {
      "cell_type": "code",
      "metadata": {
        "id": "C_K0vswPRpPV",
        "colab_type": "code",
        "colab": {
          "base_uri": "https://localhost:8080/",
          "height": 34
        },
        "outputId": "39ac3adf-940e-4b2a-950b-c3b4f04723a1"
      },
      "source": [
        "x= 10 \n",
        "a1 =x > 15\n",
        "print(a1)"
      ],
      "execution_count": 18,
      "outputs": [
        {
          "output_type": "stream",
          "text": [
            "False\n"
          ],
          "name": "stdout"
        }
      ]
    },
    {
      "cell_type": "markdown",
      "metadata": {
        "id": "pE243-W8T2-a",
        "colab_type": "text"
      },
      "source": [
        "# Logical operators\n",
        "- and\n",
        "- or \n",
        "- not"
      ]
    },
    {
      "cell_type": "code",
      "metadata": {
        "id": "nCNOUsThT0j2",
        "colab_type": "code",
        "colab": {
          "base_uri": "https://localhost:8080/",
          "height": 68
        },
        "outputId": "c7be5032-4484-4367-d066-896e599b8a06"
      },
      "source": [
        "i = 100\n",
        "a1 =(i>15) and (i<800)\n",
        "a2 = (i>15) or (i>800)\n",
        "i = not 100\n",
        "print(a1)\n",
        "print(a2)\n",
        "print(i)"
      ],
      "execution_count": 22,
      "outputs": [
        {
          "output_type": "stream",
          "text": [
            "True\n",
            "True\n",
            "False\n"
          ],
          "name": "stdout"
        }
      ]
    },
    {
      "cell_type": "markdown",
      "metadata": {
        "id": "UyTnGMUUVjAt",
        "colab_type": "text"
      },
      "source": [
        "# Controll flow statements\n",
        "- conditional statements\n",
        "- looping statements"
      ]
    },
    {
      "cell_type": "markdown",
      "metadata": {
        "id": "7P2s4g_pV8uK",
        "colab_type": "text"
      },
      "source": [
        "# If -else statement\n",
        "## syntax\n",
        "# if boolen_condition\n",
        "# statements\n",
        "# else:\n",
        "# statements"
      ]
    },
    {
      "cell_type": "code",
      "metadata": {
        "id": "c7VoZssaUr8r",
        "colab_type": "code",
        "colab": {
          "base_uri": "https://localhost:8080/",
          "height": 51
        },
        "outputId": "196392e1-4689-4c5a-b192-183383fca44c"
      },
      "source": [
        "# to check given number is even or odd\n",
        "n = int(input(\"enter a number\"))\n",
        "if n%2 ==0:\n",
        "     print(n,\"is even number\")\n",
        "else:\n",
        "     print(n,\"is odd number\")"
      ],
      "execution_count": 26,
      "outputs": [
        {
          "output_type": "stream",
          "text": [
            "enter a number38\n",
            "38 is even number\n"
          ],
          "name": "stdout"
        }
      ]
    },
    {
      "cell_type": "code",
      "metadata": {
        "id": "fb1sf0qRXU4a",
        "colab_type": "code",
        "colab": {
          "base_uri": "https://localhost:8080/",
          "height": 51
        },
        "outputId": "c02ee5ff-bd53-4766-874c-c114c8ea29dc"
      },
      "source": [
        "# to checkgiven number is perfectly multiples of 3 and 5\n",
        "n = int(input(\"enter a number\"))\n",
        "if n%3 ==0 and n%5 ==0:\n",
        "   print(n,\"multiple\")\n",
        "else:\n",
        "   print(n,\"not a multiple\")"
      ],
      "execution_count": 30,
      "outputs": [
        {
          "output_type": "stream",
          "text": [
            "enter a number15\n",
            "15 multiple\n"
          ],
          "name": "stdout"
        }
      ]
    },
    {
      "cell_type": "code",
      "metadata": {
        "id": "9oV5V1y6ZMFP",
        "colab_type": "code",
        "colab": {
          "base_uri": "https://localhost:8080/",
          "height": 51
        },
        "outputId": "246bc38c-5b0b-4cf9-dc9e-186da01b26ce"
      },
      "source": [
        "# check given number is positive ,negetive or zero\n",
        "n = int(input(\"enter a number\"))\n",
        "if  n>0:\n",
        " print(n,\"positive\")\n",
        "elif n<0:\n",
        "  print(n,\"negetive\")\n",
        "else :\n",
        "  print(n,\"zero\")"
      ],
      "execution_count": 32,
      "outputs": [
        {
          "output_type": "stream",
          "text": [
            "enter a number4\n",
            "4 positive\n"
          ],
          "name": "stdout"
        }
      ]
    },
    {
      "cell_type": "code",
      "metadata": {
        "id": "HMVXRBVzbxkO",
        "colab_type": "code",
        "colab": {
          "base_uri": "https://localhost:8080/",
          "height": 85
        },
        "outputId": "80fd4c8e-e473-4af9-8c8b-f543182b11d2"
      },
      "source": [
        "# largest number of 3 numbers\n",
        "X = int(input(\"enter X\"))\n",
        "Y = int(input(\"enter Y\"))\n",
        "Z = int(input(\"enter Z\"))\n",
        "if X>Y and X>Z:\n",
        "  print(X,\"X is greater\")\n",
        "elif Y>X and Y>Z : \n",
        "  print(Y,\"y is greater\")\n",
        "else:\n",
        "  print(Z,\"z is greater\")"
      ],
      "execution_count": 34,
      "outputs": [
        {
          "output_type": "stream",
          "text": [
            "enter X5\n",
            "enter Y7\n",
            "enter Z8\n",
            "8 z is greater\n"
          ],
          "name": "stdout"
        }
      ]
    },
    {
      "cell_type": "code",
      "metadata": {
        "id": "L3fBdrm5eUFx",
        "colab_type": "code",
        "colab": {
          "base_uri": "https://localhost:8080/",
          "height": 51
        },
        "outputId": "6c30fc7f-8ef1-4f00-e1e0-b4ea6afc3b3a"
      },
      "source": [
        "# Leap year\n",
        "n = int(input(\"enter a year\"))\n",
        "if n%4==0 and n%400==0: \n",
        " print(n,\"leap year\")\n",
        "elif n%100!=0:\n",
        "  print(n,\"not a leap year\")\n",
        "else:"
      ],
      "execution_count": 35,
      "outputs": [
        {
          "output_type": "stream",
          "text": [
            "enter a year2020\n",
            "2020 not a leap year\n"
          ],
          "name": "stdout"
        }
      ]
    },
    {
      "cell_type": "code",
      "metadata": {
        "id": "aMEZZk67gCv5",
        "colab_type": "code",
        "colab": {}
      },
      "source": [
        ""
      ],
      "execution_count": 0,
      "outputs": []
    }
  ]
}